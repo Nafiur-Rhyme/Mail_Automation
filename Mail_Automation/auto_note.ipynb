{
 "cells": [
  {
   "cell_type": "code",
   "execution_count": 47,
   "metadata": {},
   "outputs": [],
   "source": [
    "import csv\n",
    "from time import sleep\n",
    "import datetime\n",
    "import win32com.client as client\n",
    "import pathlib"
   ]
  },
  {
   "cell_type": "code",
   "execution_count": 48,
   "metadata": {},
   "outputs": [],
   "source": [
    "card_path = pathlib.Path('Birthday_card.png')\n",
    "card_abs = str(card_path.absolute())"
   ]
  },
  {
   "cell_type": "code",
   "execution_count": 49,
   "metadata": {},
   "outputs": [],
   "source": [
    "\n",
    "# message = outlook.CreateItem(0)\n",
    "# message.Subject = 'HAPPY BIRTHDAY!!'\n",
    "# message.HTMLBody = template\n",
    "# message.Display() \n",
    "# outlook = client.Dispatch('Outlook.Application')\n",
    "# message = outlook.CreateItem(0)\n",
    "# img = message.Attachments.Add(card_abs)\n",
    "# html_body = f\"\"\"\n",
    "#     <p>Dear {name},</p>\n",
    "#     <div>\n",
    "#         <img src=\"cid:card-img\" width=50%>\n",
    "#     </div>\n",
    "#     \"\"\"\n",
    "# img.PropertyAccessor.SetProperty(\"http://schemas.microsoft.com/mapi/proptag/0x3712001F\", \"card-img\")\n",
    "# message.To = 'nafiur.test@outlook.com'\n",
    "# message.Subject = \"Happy Birthday\"\n",
    "# message.HTMLBody = html_body\n",
    "# message.Send()"
   ]
  },
  {
   "cell_type": "code",
   "execution_count": 50,
   "metadata": {},
   "outputs": [],
   "source": [
    "with open('people.csv', 'r', newline='') as f:\n",
    "    reader = csv.reader(f)\n",
    "    recipients = [row for row in reader]\n",
    "# Outlook only allows to send 30 mails per minute. That is why, chunks of 30 people are made\n",
    "chunks = [recipients[x:x+30] for x in range(0, len(recipients), 30)]"
   ]
  },
  {
   "cell_type": "code",
   "execution_count": 59,
   "metadata": {},
   "outputs": [
    {
     "data": {
      "text/plain": [
       "False"
      ]
     },
     "execution_count": 59,
     "metadata": {},
     "output_type": "execute_result"
    }
   ],
   "source": [
    "def is_birthday(birthday):\n",
    "    today = datetime.datetime.now().date()\n",
    "    return today.month == birthday.month and today.day == birthday.day\n",
    "birthday = datetime.datetime.strptime('2023-07-18', '%Y-%m-%d')\n",
    "is_birthday(birthday)\n"
   ]
  },
  {
   "cell_type": "code",
   "execution_count": 52,
   "metadata": {},
   "outputs": [],
   "source": [
    "\n",
    "def send_birthday_email():\n",
    "    outlook = client.Dispatch('Outlook.Application')\n",
    "    for chunk in chunks:\n",
    "        for name, birthday, email in chunk:\n",
    "            birthday = datetime.datetime.strptime(birthday, '%Y-%m-%d')\n",
    "            if is_birthday(birthday):\n",
    "                outlook = client.Dispatch('Outlook.Application')\n",
    "                message = outlook.CreateItem(0)\n",
    "                img = message.Attachments.Add(card_abs)\n",
    "                html_body = f\"\"\"\n",
    "                    <p>Dear {name},</p>\n",
    "                    <div>\n",
    "                        <img src=\"cid:card-img\" width=50%>\n",
    "                    </div>\n",
    "                    \"\"\"\n",
    "                img.PropertyAccessor.SetProperty(\"http://schemas.microsoft.com/mapi/proptag/0x3712001F\", \"card-img\")\n",
    "                message.To = email\n",
    "                message.Subject = \"Happy Birthday\"\n",
    "                message.HTMLBody = html_body\n",
    "                message.Send()\n",
    "        sleep(61)\n",
    "        "
   ]
  },
  {
   "cell_type": "code",
   "execution_count": 64,
   "metadata": {},
   "outputs": [],
   "source": [
    "name = 'Nafiur'\n",
    "birthday = datetime.datetime.strptime('2023-07-17', '%Y-%m-%d')\n",
    "if is_birthday(birthday):\n",
    "    outlook = client.Dispatch('Outlook.Application')\n",
    "    message = outlook.CreateItem(0)\n",
    "    img = message.Attachments.Add(card_abs)\n",
    "    html_body = f\"\"\"\n",
    "        <p>Dear {name},</p>\n",
    "        <div>\n",
    "            <img src=\"cid:card-img\" width=50%>\n",
    "        </div>\n",
    "        \"\"\"\n",
    "    img.PropertyAccessor.SetProperty(\"http://schemas.microsoft.com/mapi/proptag/0x3712001F\", \"card-img\")\n",
    "    message.To = 'nafiur.test@outlook.com'\n",
    "    message.Subject = \"Happy Birthday\"\n",
    "    message.HTMLBody = html_body\n",
    "    message.Send()"
   ]
  }
 ],
 "metadata": {
  "kernelspec": {
   "display_name": "base",
   "language": "python",
   "name": "python3"
  },
  "language_info": {
   "codemirror_mode": {
    "name": "ipython",
    "version": 3
   },
   "file_extension": ".py",
   "mimetype": "text/x-python",
   "name": "python",
   "nbconvert_exporter": "python",
   "pygments_lexer": "ipython3",
   "version": "3.10.9"
  },
  "orig_nbformat": 4
 },
 "nbformat": 4,
 "nbformat_minor": 2
}
